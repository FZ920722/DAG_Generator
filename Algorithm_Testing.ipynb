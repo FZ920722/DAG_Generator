{
 "cells": [
  {
   "cell_type": "code",
   "execution_count": 1,
   "metadata": {},
   "outputs": [],
   "source": [
    "#!/usr/bin/python3\n",
    "# -*- coding: utf-8 -*-\n",
    "\n",
    "\n",
    "\n",
    "\"\"\"\n",
    "###################################\n",
    "主 头文件整理；\n",
    "###################################\n",
    "\"\"\"\n",
    "\n",
    "from NR import *\n",
    "from LBL import *\n",
    "from SOTA import *\n",
    "from MainHead import *\n"
   ]
  },
  {
   "cell_type": "code",
   "execution_count": 2,
   "metadata": {},
   "outputs": [
    {
     "name": "stdout",
     "output_type": "stream",
     "text": [
      "1:\t0.00\n",
      "2:\t0.00\n",
      "3:\t0.00\n",
      "4:\t0.00\n"
     ]
    }
   ],
   "source": [
    "# （1） shape生成\n",
    "for _n in range(1, 5):\n",
    "    st = time.time()\n",
    "    # （2） 归类\n",
    "    _sh_buf = defaultdict(list)\n",
    "    for _sx in shape_generation(_n, (1, _n), (1, _n)):\n",
    "        _l = len(_sx)\n",
    "        _sh_buf[_l].append(_sx)\n",
    "\n",
    "    # # （3） 验证\n",
    "    # for lx, dx in _sh_buf.items():\n",
    "    #     # print(f\"{_n}_{lx}_{len(dx)}\")\n",
    "    #     shape_verification(_n, lx, (1, _n), dx)\n",
    "\n",
    "    et = time.time()\n",
    "    print(f\"{_n}:\\t{et-st:.2f}\")"
   ]
  },
  {
   "cell_type": "code",
   "execution_count": 3,
   "metadata": {},
   "outputs": [
    {
     "name": "stdout",
     "output_type": "stream",
     "text": [
      "SOTA:\n",
      "\t Node_Num:3 \t dag_num:1 \t time:0.00\n",
      "\t Node_Num:4 \t dag_num:2 \t time:0.00\n",
      "\t Node_Num:5 \t dag_num:5 \t time:0.00\n",
      "\t Node_Num:6 \t dag_num:15 \t time:0.01\n",
      "\t Node_Num:7 \t dag_num:55 \t time:0.03\n",
      "\t Node_Num:8 \t dag_num:252 \t time:0.13\n",
      "\t Node_Num:9 \t dag_num:1464 \t time:0.60\n"
     ]
    }
   ],
   "source": [
    "\"\"\" (1) 旧算法-SOTA; \"\"\"\n",
    "print(f\"SOTA:\")\n",
    "for nnum in range(3, 10):  # node_num = n + 2\n",
    "    sota_dag_num = 0\n",
    "    st = time.time()\n",
    "    for shape in shape_generation(nnum - 2, (1, nnum - 2),(1, nnum - 2)):\n",
    "        for dagx in gen_mine_new((1,) + shape + (1,)):  # step 3 连接独立sink & source\n",
    "            sota_dag_num += 1\n",
    "    et = time.time()\n",
    "    print(f\"\\t Node_Num:{nnum} \\t dag_num:{sota_dag_num} \\t time:{et - st:.2f}\")"
   ]
  },
  {
   "cell_type": "code",
   "execution_count": 5,
   "metadata": {},
   "outputs": [
    {
     "name": "stdout",
     "output_type": "stream",
     "text": [
      "LBL:\n",
      "\t Node_Num:3 \t dag_num:6 \t time:0.00\n",
      "\t Node_Num:4 \t dag_num:25 \t time:0.00\n",
      "\t Node_Num:5 \t dag_num:140 \t time:0.03\n",
      "\t Node_Num:6 \t dag_num:1037 \t time:0.17\n",
      "\t Node_Num:7 \t dag_num:10078 \t time:1.59\n",
      "\t Node_Num:8 \t dag_num:127976 \t time:14.65\n"
     ]
    }
   ],
   "source": [
    "\"\"\" (2) LBL; \"\"\"\n",
    "print(f\"LBL:\")\n",
    "for nnum in range(3, 10):\n",
    "    st = time.time()\n",
    "    __lbl_dag_num = 0\n",
    "    for shape in shape_generation(nnum, (1, nnum),(1, nnum)):\n",
    "        xdag = nx.DiGraph()\n",
    "        xdag.add_nodes_from([(_nid,{'l': 1}) for _nid in range(shape[0])])\n",
    "        for rdag in LBL_Dag_Generator(xdag, shape[1:]):  \n",
    "            __lbl_dag_num += 1\n",
    "    et = time.time()\n",
    "    print(f\"\\t Node_Num:{nnum} \\t dag_num:{__lbl_dag_num} \\t time:{et - st:.2f}\")"
   ]
  },
  {
   "cell_type": "code",
   "execution_count": null,
   "metadata": {},
   "outputs": [],
   "source": [
    "\"\"\" (3) NR; \"\"\"\n",
    "print(f\"NR:\")\n",
    "for nnum in range(3, 5):\n",
    "    st = time.time()\n",
    "    __nr_dag_num = 0\n",
    "    gx = nx.DiGraph()\n",
    "    gx.add_nodes_from([0])\n",
    "    for rdag in Node_Enu(gx, nnum):\n",
    "        # print(tx.nodes())\n",
    "        # print(tx.edges())\n",
    "        __nr_dag_num += 1\n",
    "    et = time.time()\n",
    "    print(f\"\\t Node_Num:{nnum} \\t dag_num:{__nr_dag_num} \\t time:{et - st:.2f}\")"
   ]
  }
 ],
 "metadata": {
  "kernelspec": {
   "display_name": "base",
   "language": "python",
   "name": "python3"
  },
  "language_info": {
   "codemirror_mode": {
    "name": "ipython",
    "version": 3
   },
   "file_extension": ".py",
   "mimetype": "text/x-python",
   "name": "python",
   "nbconvert_exporter": "python",
   "pygments_lexer": "ipython3",
   "version": "3.11.5"
  }
 },
 "nbformat": 4,
 "nbformat_minor": 2
}
